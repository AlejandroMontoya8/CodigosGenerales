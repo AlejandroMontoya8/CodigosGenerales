{
 "cells": [
  {
   "cell_type": "code",
   "execution_count": 10,
   "id": "1cc548e8",
   "metadata": {},
   "outputs": [],
   "source": [
    "import mysql.connector\n",
    "from mysql.connector import Error\n",
    "import pandas as pd\n",
    "import numpy as np"
   ]
  },
  {
   "cell_type": "markdown",
   "id": "f9aaa002",
   "metadata": {},
   "source": [
    "### Conexión a Link_de_Reasignacion"
   ]
  },
  {
   "cell_type": "code",
   "execution_count": 2,
   "id": "3720a647",
   "metadata": {},
   "outputs": [
    {
     "name": "stdout",
     "output_type": "stream",
     "text": [
      "Conexión exitosa\n",
      "Info del servidor:  5.7.23-log\n",
      "Conectado a la BD:  ('domicilios',)\n"
     ]
    }
   ],
   "source": [
    "try: \n",
    "    conexion = mysql.connector.connect(\n",
    "        host=\"172.18.50.9\",\n",
    "        port=3306,\n",
    "        user=\"consultapedidos\",\n",
    "        password=\"#Cr9zV3rd3*\",\n",
    "        db=\"domicilios\"\n",
    "    \n",
    "    )\n",
    "    \n",
    "    if conexion.is_connected(): \n",
    "        print(\"Conexión exitosa\")\n",
    "        infoServer = conexion.get_server_info()\n",
    "        print(\"Info del servidor: \", infoServer)\n",
    "        \n",
    "        cursor=conexion.cursor()\n",
    "        cursor.execute(\"SELECT database();\")\n",
    "        registro = cursor.fetchone()\n",
    "        print(\"Conectado a la BD: \",registro)\n",
    "        \n",
    "        \n",
    "except Error as ex:\n",
    "    print(\"Error durante conexión:\", ex)\n",
    "\n",
    "    "
   ]
  },
  {
   "cell_type": "code",
   "execution_count": 3,
   "id": "d7a25235",
   "metadata": {},
   "outputs": [
    {
     "name": "stdout",
     "output_type": "stream",
     "text": [
      "CPU times: total: 3.98 s\n",
      "Wall time: 27.3 s\n"
     ]
    }
   ],
   "source": [
    "%%time\n",
    "periodo = 202209\n",
    "\n",
    "cur = conexion.cursor()\n",
    "cur.execute(\"SELECT * FROM domi_pedidos WHERE periodo in ('202105')\")\n",
    "\n",
    "data =cur.fetchall()\n",
    "df = pd.DataFrame(data)\n",
    "df.columns = cur.column_names"
   ]
  },
  {
   "cell_type": "markdown",
   "id": "98095542",
   "metadata": {},
   "source": [
    "### VENTASMARGEN"
   ]
  },
  {
   "cell_type": "code",
   "execution_count": 2,
   "id": "152cc609",
   "metadata": {
    "scrolled": true
   },
   "outputs": [
    {
     "name": "stdout",
     "output_type": "stream",
     "text": [
      "Conexión exitosa\n",
      "Info del servidor:  5.7.21-log\n",
      "Conectado a la BD:  ('ventas',)\n"
     ]
    }
   ],
   "source": [
    "try: \n",
    "    conexion = mysql.connector.connect(\n",
    "        host=\"172.18.50.54\",\n",
    "        port=3306,\n",
    "        user=\"operaciones\",\n",
    "        password=\"operaciones3\",\n",
    "        db=\"ventas\"\n",
    "    \n",
    "    )\n",
    "    \n",
    "    if conexion.is_connected(): \n",
    "        print(\"Conexión exitosa\")\n",
    "        infoServer = conexion.get_server_info()\n",
    "        print(\"Info del servidor: \", infoServer)\n",
    "        \n",
    "        cursor=conexion.cursor()\n",
    "        cursor.execute(\"SELECT database();\")\n",
    "        registro = cursor.fetchone()\n",
    "        print(\"Conectado a la BD: \",registro)\n",
    "        \n",
    "        cursor=conexion.cursor()\n",
    "        cursor.execute(\"SELECT  Mes ,Dia, NumeroTicket, Sucursal,Venta, Clasifica1,identifUsuario, periodo FROM ventasdiario_c WHERE periodo in ('202301') and Clasifica1 in ('Droguería','Droguerías','Drogueria','Droguerias','droguería','droguerías','drogueria','droguerias');\")\n",
    "        data = cursor.fetchall()\n",
    "        df_drog=pd.DataFrame(data)\n",
    "        df_drog.columns= cursor.column_names\n",
    "        \n",
    "except Error as ex:\n",
    "    print(\"Error durante conexión:\", ex)\n"
   ]
  },
  {
   "cell_type": "code",
   "execution_count": 11,
   "id": "db0919b5",
   "metadata": {},
   "outputs": [
    {
     "name": "stdout",
     "output_type": "stream",
     "text": [
      "Conexión exitosa\n",
      "Info del servidor:  5.7.21-log\n",
      "Conectado a la BD:  ('ventas',)\n"
     ]
    }
   ],
   "source": [
    "try: \n",
    "    conexion = mysql.connector.connect(\n",
    "        host=\"172.18.50.54\",\n",
    "        port=3306,\n",
    "        user=\"operaciones\",\n",
    "        password=\"operaciones3\",\n",
    "        db=\"ventas\"\n",
    "    \n",
    "    )\n",
    " \n",
    "    if conexion.is_connected(): \n",
    "        print(\"Conexión exitosa\")\n",
    "        infoServer = conexion.get_server_info()\n",
    "        print(\"Info del servidor: \", infoServer)\n",
    "        \n",
    "        cursor=conexion.cursor()\n",
    "        cursor.execute(\"SELECT database();\")\n",
    "        registro = cursor.fetchone()\n",
    "        print(\"Conectado a la BD: \",registro)\n",
    "        \n",
    "        cursor.execute(\"SELECT Canal,Sucursal, Dia, NumeroTicket, Venta, Clasifica1, periodo, identifUsuario FROM ventasdiario_c WHERE periodo in ('202302') and Clasifica1 in ('Ecommerce','Mostrador','Call Center');\")\n",
    "        data = cursor.fetchall()\n",
    "        df_mostrador=pd.DataFrame(data)\n",
    "        df_mostrador.columns= cursor.column_names\n",
    "        df_mostrador\n",
    "        \n",
    "except Error as ex:\n",
    "    print(\"Error durante conexión:\", ex)"
   ]
  },
  {
   "cell_type": "code",
   "execution_count": 13,
   "id": "58a7ec50",
   "metadata": {},
   "outputs": [],
   "source": [
    "df_mostrador_unico = df_mostrador.drop_duplicates(subset = [\"NumeroTicket\"])\n",
    "df_mostrador_unico = df_mostrador_unico[df_mostrador_unico[\"Venta\"]>0]"
   ]
  },
  {
   "cell_type": "code",
   "execution_count": 14,
   "id": "f4d49f00",
   "metadata": {},
   "outputs": [
    {
     "data": {
      "text/html": [
       "<div>\n",
       "<style scoped>\n",
       "    .dataframe tbody tr th:only-of-type {\n",
       "        vertical-align: middle;\n",
       "    }\n",
       "\n",
       "    .dataframe tbody tr th {\n",
       "        vertical-align: top;\n",
       "    }\n",
       "\n",
       "    .dataframe thead th {\n",
       "        text-align: right;\n",
       "    }\n",
       "</style>\n",
       "<table border=\"1\" class=\"dataframe\">\n",
       "  <thead>\n",
       "    <tr style=\"text-align: right;\">\n",
       "      <th></th>\n",
       "      <th>NumeroTicket</th>\n",
       "    </tr>\n",
       "    <tr>\n",
       "      <th>Clasifica1</th>\n",
       "      <th></th>\n",
       "    </tr>\n",
       "  </thead>\n",
       "  <tbody>\n",
       "    <tr>\n",
       "      <th>Call Center</th>\n",
       "      <td>49571</td>\n",
       "    </tr>\n",
       "    <tr>\n",
       "      <th>Ecommerce</th>\n",
       "      <td>39913</td>\n",
       "    </tr>\n",
       "    <tr>\n",
       "      <th>Mostrador</th>\n",
       "      <td>23342</td>\n",
       "    </tr>\n",
       "  </tbody>\n",
       "</table>\n",
       "</div>"
      ],
      "text/plain": [
       "             NumeroTicket\n",
       "Clasifica1               \n",
       "Call Center         49571\n",
       "Ecommerce           39913\n",
       "Mostrador           23342"
      ]
     },
     "execution_count": 14,
     "metadata": {},
     "output_type": "execute_result"
    }
   ],
   "source": [
    "pd.pivot_table(df_mostrador_unico, index = [\"Clasifica1\"],values = [\"NumeroTicket\"],aggfunc = \"count\")"
   ]
  },
  {
   "cell_type": "code",
   "execution_count": 15,
   "id": "2cb4c650",
   "metadata": {},
   "outputs": [
    {
     "data": {
      "text/html": [
       "<div>\n",
       "<style scoped>\n",
       "    .dataframe tbody tr th:only-of-type {\n",
       "        vertical-align: middle;\n",
       "    }\n",
       "\n",
       "    .dataframe tbody tr th {\n",
       "        vertical-align: top;\n",
       "    }\n",
       "\n",
       "    .dataframe thead th {\n",
       "        text-align: right;\n",
       "    }\n",
       "</style>\n",
       "<table border=\"1\" class=\"dataframe\">\n",
       "  <thead>\n",
       "    <tr style=\"text-align: right;\">\n",
       "      <th></th>\n",
       "      <th>Venta</th>\n",
       "    </tr>\n",
       "    <tr>\n",
       "      <th>Clasifica1</th>\n",
       "      <th></th>\n",
       "    </tr>\n",
       "  </thead>\n",
       "  <tbody>\n",
       "    <tr>\n",
       "      <th>Call Center</th>\n",
       "      <td>4.900511e+09</td>\n",
       "    </tr>\n",
       "    <tr>\n",
       "      <th>Ecommerce</th>\n",
       "      <td>3.869077e+09</td>\n",
       "    </tr>\n",
       "    <tr>\n",
       "      <th>Mostrador</th>\n",
       "      <td>2.982074e+09</td>\n",
       "    </tr>\n",
       "  </tbody>\n",
       "</table>\n",
       "</div>"
      ],
      "text/plain": [
       "                    Venta\n",
       "Clasifica1               \n",
       "Call Center  4.900511e+09\n",
       "Ecommerce    3.869077e+09\n",
       "Mostrador    2.982074e+09"
      ]
     },
     "execution_count": 15,
     "metadata": {},
     "output_type": "execute_result"
    }
   ],
   "source": [
    "pd.pivot_table(df_mostrador, index = [\"Clasifica1\"],values = [\"Venta\"],aggfunc = np.sum)"
   ]
  },
  {
   "cell_type": "code",
   "execution_count": 7,
   "id": "44ce94e2",
   "metadata": {},
   "outputs": [],
   "source": [
    "resumen_venta = pd.pivot_table(df_mostrador,index = [\"Sucursal\"],columns = [\"Clasifica1\"],values = [\"Venta\"],aggfunc = np.sum)\n",
    "resumen_venta.to_excel(r\"C:\\Users\\luis.montoya\\Downloads\\Venta_Sucursal2022.xlsx\")"
   ]
  },
  {
   "cell_type": "code",
   "execution_count": 4,
   "id": "68b065ae",
   "metadata": {},
   "outputs": [
    {
     "name": "stdout",
     "output_type": "stream",
     "text": [
      "Conexión exitosa\n",
      "Info del servidor:  5.7.21-log\n",
      "Conectado a la BD:  ('ventas',)\n"
     ]
    }
   ],
   "source": [
    "try: \n",
    "    conexion = mysql.connector.connect(\n",
    "        host=\"172.18.50.54\",\n",
    "        port=3306,\n",
    "        user=\"operaciones\",\n",
    "        password=\"operaciones3\",\n",
    "        db=\"ventas\"\n",
    "    \n",
    "    )\n",
    "    \n",
    "    if conexion.is_connected(): \n",
    "        print(\"Conexión exitosa\")\n",
    "        infoServer = conexion.get_server_info()\n",
    "        print(\"Info del servidor: \", infoServer)\n",
    "        \n",
    "        cursor=conexion.cursor()\n",
    "        cursor.execute(\"SELECT database();\")\n",
    "        registro = cursor.fetchone()\n",
    "        print(\"Conectado a la BD: \",registro)\n",
    "        \n",
    "        cursor.execute(\"SELECT  Sucursal, identifUsuario, NumeroTicket, CodArticulo, Venta, Ano, Mes, Dia, clasifica, periodo FROM ventasdiariogeoposi WHERE periodo in ('202212') and CodArticulo in (158135,158136);\")\n",
    "        data = cursor.fetchall()\n",
    "        df=pd.DataFrame(data)\n",
    "        df.columns= cursor.column_names\n",
    "        df\n",
    "        \n",
    "except Error as ex:\n",
    "    print(\"Error durante conexión:\", ex)"
   ]
  },
  {
   "cell_type": "code",
   "execution_count": 5,
   "id": "8184dbab",
   "metadata": {},
   "outputs": [],
   "source": [
    "df_MDomicilios = df[df[\"clasifica\"] == \"Mostrador\"]\n",
    "df_MDrogueria = df[df[\"clasifica\"] == \"Drogueria\"]"
   ]
  },
  {
   "cell_type": "code",
   "execution_count": 6,
   "id": "d83e50fe",
   "metadata": {},
   "outputs": [],
   "source": [
    "marcacion_MDrogueria = pd.merge(df_drog,df_MDrogueria,left_on =\"NumeroTicket\",right_on=\"NumeroTicket\",how=\"left\")\n",
    "marcacion_MDrogueria = marcacion_MDrogueria[~marcacion_MDrogueria.CodArticulo.isnull()]"
   ]
  },
  {
   "cell_type": "code",
   "execution_count": 7,
   "id": "6c5e5cc4",
   "metadata": {},
   "outputs": [],
   "source": [
    "marcacion_MDomicilios = pd.merge(df_mostrador,df_MDomicilios,left_on =\"NumeroTicket\",right_on=\"NumeroTicket\",how=\"left\")\n",
    "marcacion_MDomicilios = marcacion_MDomicilios[~marcacion_MDomicilios.CodArticulo.isnull()]"
   ]
  },
  {
   "cell_type": "code",
   "execution_count": 8,
   "id": "9bcf5f20",
   "metadata": {},
   "outputs": [],
   "source": [
    "marcacion_MDomicilios.to_excel(r\"C:\\Users\\luis.montoya\\Downloads\\MostradorDomicilios.xlsx\")\n",
    "marcacion_MDrogueria.to_excel(r\"C:\\Users\\luis.montoya\\Downloads\\MostradorDrogueria.xlsx\")"
   ]
  },
  {
   "cell_type": "code",
   "execution_count": null,
   "id": "5005f6d6",
   "metadata": {},
   "outputs": [],
   "source": [
    "############################################################################################################################"
   ]
  },
  {
   "cell_type": "code",
   "execution_count": null,
   "id": "bd943deb",
   "metadata": {},
   "outputs": [],
   "source": []
  }
 ],
 "metadata": {
  "kernelspec": {
   "display_name": "Python 3 (ipykernel)",
   "language": "python",
   "name": "python3"
  },
  "language_info": {
   "codemirror_mode": {
    "name": "ipython",
    "version": 3
   },
   "file_extension": ".py",
   "mimetype": "text/x-python",
   "name": "python",
   "nbconvert_exporter": "python",
   "pygments_lexer": "ipython3",
   "version": "3.9.12"
  }
 },
 "nbformat": 4,
 "nbformat_minor": 5
}
