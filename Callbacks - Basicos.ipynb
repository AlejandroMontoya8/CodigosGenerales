{
 "cells": [
  {
   "cell_type": "markdown",
   "id": "7b20ed75",
   "metadata": {},
   "source": [
    "### RadioItems y Markdown"
   ]
  },
  {
   "cell_type": "code",
   "execution_count": 1,
   "id": "668a2fa1",
   "metadata": {},
   "outputs": [
    {
     "name": "stdout",
     "output_type": "stream",
     "text": [
      "Dash is running on http://127.0.0.1:8001/\n",
      "\n",
      " * Serving Flask app \"__main__\" (lazy loading)\n",
      " * Environment: production\n",
      "   WARNING: This is a development server. Do not use it in a production deployment.\n",
      "   Use a production WSGI server instead.\n",
      " * Debug mode: off\n"
     ]
    },
    {
     "name": "stderr",
     "output_type": "stream",
     "text": [
      " * Running on http://127.0.0.1:8001/ (Press CTRL+C to quit)\n",
      "127.0.0.1 - - [30/Jul/2022 13:50:17] \"\u001b[37mGET / HTTP/1.1\u001b[0m\" 200 -\n",
      "127.0.0.1 - - [30/Jul/2022 13:50:17] \"\u001b[37mGET /_dash-component-suites/dash/deps/react@16.v2_5_0m1654649861.14.0.min.js HTTP/1.1\u001b[0m\" 200 -\n",
      "127.0.0.1 - - [30/Jul/2022 13:50:17] \"\u001b[37mGET /_dash-component-suites/dash/deps/prop-types@15.v2_5_0m1654649861.8.1.min.js HTTP/1.1\u001b[0m\" 200 -\n",
      "127.0.0.1 - - [30/Jul/2022 13:50:17] \"\u001b[37mGET /_dash-component-suites/dash/deps/polyfill@7.v2_5_0m1654649861.12.1.min.js HTTP/1.1\u001b[0m\" 200 -\n",
      "127.0.0.1 - - [30/Jul/2022 13:50:17] \"\u001b[37mGET /_dash-component-suites/dash/deps/react-dom@16.v2_5_0m1654649861.14.0.min.js HTTP/1.1\u001b[0m\" 200 -\n",
      "127.0.0.1 - - [30/Jul/2022 13:50:17] \"\u001b[37mGET /_dash-component-suites/dash/dcc/dash_core_components-shared.v2_5_0m1654649861.js HTTP/1.1\u001b[0m\" 200 -\n",
      "127.0.0.1 - - [30/Jul/2022 13:50:17] \"\u001b[37mGET /_dash-component-suites/dash/dcc/dash_core_components.v2_5_0m1654649861.js HTTP/1.1\u001b[0m\" 200 -\n",
      "127.0.0.1 - - [30/Jul/2022 13:50:17] \"\u001b[37mGET /_dash-component-suites/dash/dash-renderer/build/dash_renderer.v2_5_0m1654649860.min.js HTTP/1.1\u001b[0m\" 200 -\n",
      "127.0.0.1 - - [30/Jul/2022 13:50:17] \"\u001b[37mGET /_dash-component-suites/dash/html/dash_html_components.v2_0_3m1654649862.min.js HTTP/1.1\u001b[0m\" 200 -\n",
      "127.0.0.1 - - [30/Jul/2022 13:50:17] \"\u001b[37mGET /_dash-component-suites/dash/dash_table/bundle.v5_1_3m1654649860.js HTTP/1.1\u001b[0m\" 200 -\n",
      "127.0.0.1 - - [30/Jul/2022 13:50:18] \"\u001b[37mGET /_dash-layout HTTP/1.1\u001b[0m\" 200 -\n",
      "127.0.0.1 - - [30/Jul/2022 13:50:18] \"\u001b[37mGET /_dash-dependencies HTTP/1.1\u001b[0m\" 200 -\n",
      "127.0.0.1 - - [30/Jul/2022 13:50:18] \"\u001b[37mPOST /_dash-update-component HTTP/1.1\u001b[0m\" 200 -\n",
      "127.0.0.1 - - [30/Jul/2022 13:50:18] \"\u001b[37mGET /_favicon.ico?v=2.5.0 HTTP/1.1\u001b[0m\" 200 -\n",
      "127.0.0.1 - - [30/Jul/2022 13:50:18] \"\u001b[37mGET /_dash-component-suites/dash/dcc/async-markdown.js HTTP/1.1\u001b[0m\" 200 -\n"
     ]
    },
    {
     "name": "stdout",
     "output_type": "stream",
     "text": [
      "ship\n",
      "<class 'str'>\n"
     ]
    },
    {
     "name": "stderr",
     "output_type": "stream",
     "text": [
      "127.0.0.1 - - [30/Jul/2022 13:50:18] \"\u001b[37mGET /_dash-component-suites/dash/dcc/async-highlight.js HTTP/1.1\u001b[0m\" 200 -\n",
      "127.0.0.1 - - [30/Jul/2022 13:50:19] \"\u001b[37mPOST /_dash-update-component HTTP/1.1\u001b[0m\" 200 -\n"
     ]
    },
    {
     "name": "stdout",
     "output_type": "stream",
     "text": [
      "house\n",
      "<class 'str'>\n"
     ]
    },
    {
     "name": "stderr",
     "output_type": "stream",
     "text": [
      "127.0.0.1 - - [30/Jul/2022 13:50:20] \"\u001b[37mPOST /_dash-update-component HTTP/1.1\u001b[0m\" 200 -\n"
     ]
    },
    {
     "name": "stdout",
     "output_type": "stream",
     "text": [
      "car\n",
      "<class 'str'>\n"
     ]
    },
    {
     "name": "stderr",
     "output_type": "stream",
     "text": [
      "127.0.0.1 - - [30/Jul/2022 13:50:22] \"\u001b[37mPOST /_dash-update-component HTTP/1.1\u001b[0m\" 200 -\n"
     ]
    },
    {
     "name": "stdout",
     "output_type": "stream",
     "text": [
      "ship\n",
      "<class 'str'>\n"
     ]
    }
   ],
   "source": [
    "from dash import Dash, dcc, html, Output, Input, State, callback\n",
    "import plotly.express as px\n",
    "\n",
    "app = Dash(__name__)\n",
    "\n",
    "app.layout = html.Div([\n",
    "    dcc.RadioItems(options=['car','house','ship'], value='ship', id='my-radio-btn'),\n",
    "    dcc.Markdown(children='', id='text-displayed')\n",
    "])\n",
    "\n",
    "@callback(\n",
    "    Output(component_id='text-displayed', component_property='children'),\n",
    "    Input(component_id='my-radio-btn', component_property='value')\n",
    ")\n",
    "def update_text(user_selected):  # the function argument comes from the component property of the Input\n",
    "    print(user_selected)\n",
    "    print(type(user_selected))\n",
    "    return f\"The Radio Button value you chose was: {user_selected}\"  # the returned object is assigned to the component property of the Output\n",
    "\n",
    "if __name__=='__main__':\n",
    "    app.run(port=8001)"
   ]
  },
  {
   "cell_type": "markdown",
   "id": "b5e72e40",
   "metadata": {},
   "source": [
    "### Slider  y Markdown"
   ]
  },
  {
   "cell_type": "code",
   "execution_count": 2,
   "id": "b5fc7118",
   "metadata": {},
   "outputs": [
    {
     "name": "stdout",
     "output_type": "stream",
     "text": [
      "Dash is running on http://127.0.0.1:8002/\n",
      "\n",
      "Dash is running on http://127.0.0.1:8002/\n",
      "\n",
      " * Serving Flask app \"__main__\" (lazy loading)\n",
      " * Environment: production\n",
      "   WARNING: This is a development server. Do not use it in a production deployment.\n",
      "   Use a production WSGI server instead.\n",
      " * Debug mode: off\n"
     ]
    },
    {
     "name": "stderr",
     "output_type": "stream",
     "text": [
      " * Running on http://127.0.0.1:8002/ (Press CTRL+C to quit)\n",
      "127.0.0.1 - - [30/Jul/2022 13:58:04] \"\u001b[37mGET / HTTP/1.1\u001b[0m\" 200 -\n",
      "127.0.0.1 - - [30/Jul/2022 13:58:04] \"\u001b[37mGET /_dash-component-suites/dash/deps/polyfill@7.v2_5_0m1654649861.12.1.min.js HTTP/1.1\u001b[0m\" 200 -\n",
      "127.0.0.1 - - [30/Jul/2022 13:58:04] \"\u001b[37mGET /_dash-component-suites/dash/deps/react@16.v2_5_0m1654649861.14.0.min.js HTTP/1.1\u001b[0m\" 200 -\n",
      "127.0.0.1 - - [30/Jul/2022 13:58:04] \"\u001b[37mGET /_dash-component-suites/dash/deps/prop-types@15.v2_5_0m1654649861.8.1.min.js HTTP/1.1\u001b[0m\" 200 -\n",
      "127.0.0.1 - - [30/Jul/2022 13:58:04] \"\u001b[37mGET /_dash-component-suites/dash/dash-renderer/build/dash_renderer.v2_5_0m1654649860.min.js HTTP/1.1\u001b[0m\" 200 -\n",
      "127.0.0.1 - - [30/Jul/2022 13:58:04] \"\u001b[37mGET /_dash-component-suites/dash/deps/react-dom@16.v2_5_0m1654649861.14.0.min.js HTTP/1.1\u001b[0m\" 200 -\n",
      "127.0.0.1 - - [30/Jul/2022 13:58:04] \"\u001b[37mGET /_dash-component-suites/dash/dcc/dash_core_components.v2_5_0m1654649861.js HTTP/1.1\u001b[0m\" 200 -\n",
      "127.0.0.1 - - [30/Jul/2022 13:58:04] \"\u001b[37mGET /_dash-component-suites/dash/dcc/dash_core_components-shared.v2_5_0m1654649861.js HTTP/1.1\u001b[0m\" 200 -\n",
      "127.0.0.1 - - [30/Jul/2022 13:58:04] \"\u001b[37mGET /_dash-component-suites/dash/html/dash_html_components.v2_0_3m1654649862.min.js HTTP/1.1\u001b[0m\" 200 -\n",
      "127.0.0.1 - - [30/Jul/2022 13:58:04] \"\u001b[37mGET /_dash-component-suites/dash/dash_table/bundle.v5_1_3m1654649860.js HTTP/1.1\u001b[0m\" 200 -\n",
      "127.0.0.1 - - [30/Jul/2022 13:58:05] \"\u001b[37mGET /_dash-layout HTTP/1.1\u001b[0m\" 200 -\n",
      "127.0.0.1 - - [30/Jul/2022 13:58:05] \"\u001b[37mGET /_dash-dependencies HTTP/1.1\u001b[0m\" 200 -\n",
      "127.0.0.1 - - [30/Jul/2022 13:58:05] \"\u001b[37mGET /_favicon.ico?v=2.5.0 HTTP/1.1\u001b[0m\" 200 -\n",
      "127.0.0.1 - - [30/Jul/2022 13:58:05] \"\u001b[37mGET /_dash-component-suites/dash/dcc/async-markdown.js HTTP/1.1\u001b[0m\" 200 -\n",
      "127.0.0.1 - - [30/Jul/2022 13:58:05] \"\u001b[37mPOST /_dash-update-component HTTP/1.1\u001b[0m\" 200 -\n",
      "127.0.0.1 - - [30/Jul/2022 13:58:05] \"\u001b[37mGET /_dash-component-suites/dash/dcc/async-highlight.js HTTP/1.1\u001b[0m\" 200 -\n",
      "127.0.0.1 - - [30/Jul/2022 13:58:05] \"\u001b[37mGET /_dash-component-suites/dash/dcc/async-slider.js HTTP/1.1\u001b[0m\" 200 -\n"
     ]
    },
    {
     "name": "stdout",
     "output_type": "stream",
     "text": [
      "12\n",
      "<class 'int'>\n"
     ]
    },
    {
     "name": "stderr",
     "output_type": "stream",
     "text": [
      "127.0.0.1 - - [30/Jul/2022 13:58:35] \"\u001b[37mPOST /_dash-update-component HTTP/1.1\u001b[0m\" 200 -\n"
     ]
    },
    {
     "name": "stdout",
     "output_type": "stream",
     "text": [
      "13\n",
      "<class 'int'>\n"
     ]
    },
    {
     "name": "stderr",
     "output_type": "stream",
     "text": [
      "127.0.0.1 - - [30/Jul/2022 13:58:36] \"\u001b[37mPOST /_dash-update-component HTTP/1.1\u001b[0m\" 200 -\n"
     ]
    },
    {
     "name": "stdout",
     "output_type": "stream",
     "text": [
      "14\n",
      "<class 'int'>\n"
     ]
    },
    {
     "name": "stderr",
     "output_type": "stream",
     "text": [
      "127.0.0.1 - - [30/Jul/2022 13:58:39] \"\u001b[37mPOST /_dash-update-component HTTP/1.1\u001b[0m\" 200 -\n"
     ]
    },
    {
     "name": "stdout",
     "output_type": "stream",
     "text": [
      "20\n",
      "<class 'int'>\n"
     ]
    }
   ],
   "source": [
    "from dash import Dash, dcc, html, Output, Input, State, callback\n",
    "import plotly.express as px\n",
    "\n",
    "app = Dash(__name__)\n",
    "\n",
    "app.layout = html.Div([\n",
    "    dcc.Slider(10,20, step=1, value=12, id='my-slider'),\n",
    "    dcc.Markdown(children='This is the Title of the App', id='text-displayed', style={'fontSize':10})\n",
    "])\n",
    "\n",
    "@callback(\n",
    "    Output(component_id='text-displayed', component_property='style'),\n",
    "    Input(component_id='my-slider', component_property='value')\n",
    ")\n",
    "def update_text(user_selected):  # the function argument comes from the component property of the Input\n",
    "    print(user_selected)\n",
    "    print(type(user_selected))\n",
    "    return {'fontSize' : user_selected}  # the returned object is assigned to the component property of the Output\n",
    "\n",
    "if __name__=='__main__':\n",
    "    app.run(port=8002)"
   ]
  },
  {
   "cell_type": "markdown",
   "id": "9fa99b38",
   "metadata": {},
   "source": [
    "### Dos entraadas, dos salidas"
   ]
  },
  {
   "cell_type": "code",
   "execution_count": 3,
   "id": "93b5dbeb",
   "metadata": {},
   "outputs": [
    {
     "name": "stdout",
     "output_type": "stream",
     "text": [
      "Dash is running on http://127.0.0.1:8003/\n",
      "\n",
      "Dash is running on http://127.0.0.1:8003/\n",
      "\n",
      "Dash is running on http://127.0.0.1:8003/\n",
      "\n",
      " * Serving Flask app \"__main__\" (lazy loading)\n",
      " * Environment: production\n",
      "   WARNING: This is a development server. Do not use it in a production deployment.\n",
      "   Use a production WSGI server instead.\n",
      " * Debug mode: off\n"
     ]
    },
    {
     "name": "stderr",
     "output_type": "stream",
     "text": [
      " * Running on http://127.0.0.1:8003/ (Press CTRL+C to quit)\n",
      "127.0.0.1 - - [30/Jul/2022 14:00:02] \"\u001b[37mGET / HTTP/1.1\u001b[0m\" 200 -\n",
      "127.0.0.1 - - [30/Jul/2022 14:00:03] \"\u001b[37mGET /_dash-component-suites/dash/deps/polyfill@7.v2_5_0m1654649861.12.1.min.js HTTP/1.1\u001b[0m\" 200 -\n",
      "127.0.0.1 - - [30/Jul/2022 14:00:03] \"\u001b[37mGET /_dash-component-suites/dash/deps/react@16.v2_5_0m1654649861.14.0.min.js HTTP/1.1\u001b[0m\" 200 -\n",
      "127.0.0.1 - - [30/Jul/2022 14:00:03] \"\u001b[37mGET /_dash-component-suites/dash/deps/react-dom@16.v2_5_0m1654649861.14.0.min.js HTTP/1.1\u001b[0m\" 200 -\n",
      "127.0.0.1 - - [30/Jul/2022 14:00:03] \"\u001b[37mGET /_dash-component-suites/dash/deps/prop-types@15.v2_5_0m1654649861.8.1.min.js HTTP/1.1\u001b[0m\" 200 -\n",
      "127.0.0.1 - - [30/Jul/2022 14:00:03] \"\u001b[37mGET /_dash-component-suites/dash/dash-renderer/build/dash_renderer.v2_5_0m1654649860.min.js HTTP/1.1\u001b[0m\" 200 -\n",
      "127.0.0.1 - - [30/Jul/2022 14:00:03] \"\u001b[37mGET /_dash-component-suites/dash/dcc/dash_core_components.v2_5_0m1654649861.js HTTP/1.1\u001b[0m\" 200 -\n",
      "127.0.0.1 - - [30/Jul/2022 14:00:03] \"\u001b[37mGET /_dash-component-suites/dash/dcc/dash_core_components-shared.v2_5_0m1654649861.js HTTP/1.1\u001b[0m\" 200 -\n",
      "127.0.0.1 - - [30/Jul/2022 14:00:03] \"\u001b[37mGET /_dash-component-suites/dash/html/dash_html_components.v2_0_3m1654649862.min.js HTTP/1.1\u001b[0m\" 200 -\n",
      "127.0.0.1 - - [30/Jul/2022 14:00:03] \"\u001b[37mGET /_dash-component-suites/dash/dash_table/bundle.v5_1_3m1654649860.js HTTP/1.1\u001b[0m\" 200 -\n",
      "127.0.0.1 - - [30/Jul/2022 14:00:03] \"\u001b[37mGET /_dash-layout HTTP/1.1\u001b[0m\" 200 -\n",
      "127.0.0.1 - - [30/Jul/2022 14:00:03] \"\u001b[37mGET /_dash-dependencies HTTP/1.1\u001b[0m\" 200 -\n",
      "127.0.0.1 - - [30/Jul/2022 14:00:03] \"\u001b[37mGET /_favicon.ico?v=2.5.0 HTTP/1.1\u001b[0m\" 200 -\n",
      "127.0.0.1 - - [30/Jul/2022 14:00:03] \"\u001b[37mPOST /_dash-update-component HTTP/1.1\u001b[0m\" 200 -\n",
      "127.0.0.1 - - [30/Jul/2022 14:00:03] \"\u001b[37mGET /_dash-component-suites/dash/dcc/async-slider.js HTTP/1.1\u001b[0m\" 200 -\n",
      "127.0.0.1 - - [30/Jul/2022 14:00:03] \"\u001b[37mGET /_dash-component-suites/dash/dcc/async-markdown.js HTTP/1.1\u001b[0m\" 200 -\n",
      "127.0.0.1 - - [30/Jul/2022 14:00:03] \"\u001b[37mGET /_dash-component-suites/dash/dcc/async-highlight.js HTTP/1.1\u001b[0m\" 200 -\n"
     ]
    },
    {
     "name": "stdout",
     "output_type": "stream",
     "text": [
      "ship\n",
      "<class 'str'>\n",
      "-----------------------\n",
      "12\n",
      "<class 'int'>\n"
     ]
    },
    {
     "name": "stderr",
     "output_type": "stream",
     "text": [
      "127.0.0.1 - - [30/Jul/2022 14:00:06] \"\u001b[37mPOST /_dash-update-component HTTP/1.1\u001b[0m\" 200 -\n"
     ]
    },
    {
     "name": "stdout",
     "output_type": "stream",
     "text": [
      "house\n",
      "<class 'str'>\n",
      "-----------------------\n",
      "12\n",
      "<class 'int'>\n"
     ]
    },
    {
     "name": "stderr",
     "output_type": "stream",
     "text": [
      "127.0.0.1 - - [30/Jul/2022 14:00:08] \"\u001b[37mPOST /_dash-update-component HTTP/1.1\u001b[0m\" 200 -\n"
     ]
    },
    {
     "name": "stdout",
     "output_type": "stream",
     "text": [
      "car\n",
      "<class 'str'>\n",
      "-----------------------\n",
      "12\n",
      "<class 'int'>\n"
     ]
    },
    {
     "name": "stderr",
     "output_type": "stream",
     "text": [
      "127.0.0.1 - - [30/Jul/2022 14:00:09] \"\u001b[37mPOST /_dash-update-component HTTP/1.1\u001b[0m\" 200 -\n"
     ]
    },
    {
     "name": "stdout",
     "output_type": "stream",
     "text": [
      "ship\n",
      "<class 'str'>\n",
      "-----------------------\n",
      "12\n",
      "<class 'int'>\n"
     ]
    },
    {
     "name": "stderr",
     "output_type": "stream",
     "text": [
      "127.0.0.1 - - [30/Jul/2022 14:00:11] \"\u001b[37mPOST /_dash-update-component HTTP/1.1\u001b[0m\" 200 -\n"
     ]
    },
    {
     "name": "stdout",
     "output_type": "stream",
     "text": [
      "ship\n",
      "<class 'str'>\n",
      "-----------------------\n",
      "13\n",
      "<class 'int'>\n"
     ]
    },
    {
     "name": "stderr",
     "output_type": "stream",
     "text": [
      "127.0.0.1 - - [30/Jul/2022 14:00:12] \"\u001b[37mPOST /_dash-update-component HTTP/1.1\u001b[0m\" 200 -\n"
     ]
    },
    {
     "name": "stdout",
     "output_type": "stream",
     "text": [
      "ship\n",
      "<class 'str'>\n",
      "-----------------------\n",
      "14\n",
      "<class 'int'>\n"
     ]
    },
    {
     "name": "stderr",
     "output_type": "stream",
     "text": [
      "127.0.0.1 - - [30/Jul/2022 14:00:14] \"\u001b[37mPOST /_dash-update-component HTTP/1.1\u001b[0m\" 200 -\n"
     ]
    },
    {
     "name": "stdout",
     "output_type": "stream",
     "text": [
      "ship\n",
      "<class 'str'>\n",
      "-----------------------\n",
      "15\n",
      "<class 'int'>\n"
     ]
    },
    {
     "name": "stderr",
     "output_type": "stream",
     "text": [
      "127.0.0.1 - - [30/Jul/2022 14:01:17] \"\u001b[37mPOST /_dash-update-component HTTP/1.1\u001b[0m\" 200 -\n"
     ]
    },
    {
     "name": "stdout",
     "output_type": "stream",
     "text": [
      "ship\n",
      "<class 'str'>\n",
      "-----------------------\n",
      "16\n",
      "<class 'int'>\n"
     ]
    },
    {
     "name": "stderr",
     "output_type": "stream",
     "text": [
      "127.0.0.1 - - [30/Jul/2022 14:01:19] \"\u001b[37mPOST /_dash-update-component HTTP/1.1\u001b[0m\" 200 -\n"
     ]
    },
    {
     "name": "stdout",
     "output_type": "stream",
     "text": [
      "ship\n",
      "<class 'str'>\n",
      "-----------------------\n",
      "20\n",
      "<class 'int'>\n"
     ]
    },
    {
     "name": "stderr",
     "output_type": "stream",
     "text": [
      "127.0.0.1 - - [30/Jul/2022 14:03:28] \"\u001b[37mPOST /_dash-update-component HTTP/1.1\u001b[0m\" 200 -\n"
     ]
    },
    {
     "name": "stdout",
     "output_type": "stream",
     "text": [
      "house\n",
      "<class 'str'>\n",
      "-----------------------\n",
      "20\n",
      "<class 'int'>\n"
     ]
    },
    {
     "name": "stderr",
     "output_type": "stream",
     "text": [
      "127.0.0.1 - - [30/Jul/2022 14:03:29] \"\u001b[37mPOST /_dash-update-component HTTP/1.1\u001b[0m\" 200 -\n"
     ]
    },
    {
     "name": "stdout",
     "output_type": "stream",
     "text": [
      "car\n",
      "<class 'str'>\n",
      "-----------------------\n",
      "20\n",
      "<class 'int'>\n"
     ]
    }
   ],
   "source": [
    "###Combinación de outputs e inputs\n",
    "\n",
    "from dash import Dash, dcc, html, Output, Input, State, callback\n",
    "import plotly.express as px\n",
    "\n",
    "app = Dash(__name__)\n",
    "\n",
    "app.layout = html.Div([\n",
    "    dcc.RadioItems(options=['car','house','ship'], value='ship', id='my-radio-btn'),\n",
    "    dcc.Slider(10, 20, step=1, value=12, id='my-slider'),\n",
    "    dcc.Markdown(children='', id='text-displayed', style={'fontSize':10})\n",
    "])\n",
    "\n",
    "@callback(\n",
    "    Output(component_id='text-displayed', component_property='children'),\n",
    "    Output(component_id='text-displayed', component_property='style'),\n",
    "    Input(component_id='my-radio-btn', component_property='value'),\n",
    "    Input(component_id='my-slider', component_property='value')\n",
    ")\n",
    "def update_text(selected_text, selected_font_size):  # the function argument comes from the component property of the Input\n",
    "    print(selected_text)\n",
    "    print(type(selected_text))\n",
    "    print('-----------------------')\n",
    "    print(selected_font_size)\n",
    "    print(type(selected_font_size))\n",
    "    return f\"The Radio Button value you chose was: {selected_text}\", {'fontSize':selected_font_size}  # the returned objects are assigned to the component properties of the Outputs\n",
    "\n",
    "if __name__=='__main__':\n",
    "    app.run(port=8003)"
   ]
  },
  {
   "cell_type": "markdown",
   "id": "74efe51e",
   "metadata": {},
   "source": [
    "### Callbacks encadenados"
   ]
  },
  {
   "cell_type": "code",
   "execution_count": 5,
   "id": "90b4960d",
   "metadata": {},
   "outputs": [
    {
     "name": "stdout",
     "output_type": "stream",
     "text": [
      "Dash is running on http://127.0.0.1:8004/\n",
      "\n",
      "Dash is running on http://127.0.0.1:8004/\n",
      "\n",
      "Dash is running on http://127.0.0.1:8004/\n",
      "\n",
      "Dash is running on http://127.0.0.1:8004/\n",
      "\n",
      "Dash is running on http://127.0.0.1:8004/\n",
      "\n",
      " * Serving Flask app \"__main__\" (lazy loading)\n",
      " * Environment: production\n",
      "   WARNING: This is a development server. Do not use it in a production deployment.\n",
      "   Use a production WSGI server instead.\n",
      " * Debug mode: off\n"
     ]
    },
    {
     "name": "stderr",
     "output_type": "stream",
     "text": [
      " * Running on http://127.0.0.1:8004/ (Press CTRL+C to quit)\n",
      "127.0.0.1 - - [30/Jul/2022 14:13:43] \"\u001b[37mGET / HTTP/1.1\u001b[0m\" 200 -\n",
      "127.0.0.1 - - [30/Jul/2022 14:13:43] \"\u001b[37mGET /_dash-component-suites/dash/deps/polyfill@7.v2_5_0m1654649861.12.1.min.js HTTP/1.1\u001b[0m\" 200 -\n",
      "127.0.0.1 - - [30/Jul/2022 14:13:43] \"\u001b[37mGET /_dash-component-suites/dash/deps/react@16.v2_5_0m1654649861.14.0.min.js HTTP/1.1\u001b[0m\" 200 -\n",
      "127.0.0.1 - - [30/Jul/2022 14:13:43] \"\u001b[37mGET /_dash-component-suites/dash/deps/react-dom@16.v2_5_0m1654649861.14.0.min.js HTTP/1.1\u001b[0m\" 200 -\n",
      "127.0.0.1 - - [30/Jul/2022 14:13:43] \"\u001b[37mGET /_dash-component-suites/dash/dash-renderer/build/dash_renderer.v2_5_0m1654649860.min.js HTTP/1.1\u001b[0m\" 200 -\n",
      "127.0.0.1 - - [30/Jul/2022 14:13:43] \"\u001b[37mGET /_dash-component-suites/dash/deps/prop-types@15.v2_5_0m1654649861.8.1.min.js HTTP/1.1\u001b[0m\" 200 -\n",
      "127.0.0.1 - - [30/Jul/2022 14:13:43] \"\u001b[37mGET /_dash-component-suites/dash/dcc/dash_core_components.v2_5_0m1654649861.js HTTP/1.1\u001b[0m\" 200 -\n",
      "127.0.0.1 - - [30/Jul/2022 14:13:43] \"\u001b[37mGET /_dash-component-suites/dash/dcc/dash_core_components-shared.v2_5_0m1654649861.js HTTP/1.1\u001b[0m\" 200 -\n",
      "127.0.0.1 - - [30/Jul/2022 14:13:43] \"\u001b[37mGET /_dash-component-suites/dash/html/dash_html_components.v2_0_3m1654649862.min.js HTTP/1.1\u001b[0m\" 200 -\n",
      "127.0.0.1 - - [30/Jul/2022 14:13:43] \"\u001b[37mGET /_dash-component-suites/dash/dash_table/bundle.v5_1_3m1654649860.js HTTP/1.1\u001b[0m\" 200 -\n",
      "127.0.0.1 - - [30/Jul/2022 14:13:43] \"\u001b[37mGET /_dash-layout HTTP/1.1\u001b[0m\" 200 -\n",
      "127.0.0.1 - - [30/Jul/2022 14:13:43] \"\u001b[37mGET /_dash-dependencies HTTP/1.1\u001b[0m\" 200 -\n",
      "127.0.0.1 - - [30/Jul/2022 14:13:43] \"\u001b[37mGET /_favicon.ico?v=2.5.0 HTTP/1.1\u001b[0m\" 200 -\n",
      "127.0.0.1 - - [30/Jul/2022 14:13:43] \"\u001b[37mGET /_dash-component-suites/dash/dcc/async-dropdown.js HTTP/1.1\u001b[0m\" 200 -\n"
     ]
    }
   ],
   "source": [
    "from dash import Dash, dcc, html, Output, Input, State, callback\n",
    "import plotly.express as px\n",
    "\n",
    "app = Dash(__name__)\n",
    "\n",
    "app.layout = html.Div([\n",
    "    dcc.Dropdown(options=['Texas','Florida','New York'], value='Texas', clearable=True, id='our-States'),\n",
    "    dcc.RadioItems(options=['Dallas','Arlington','Austin'], id='my-radio-btn'),\n",
    "])\n",
    "\n",
    "# Display options of cities based on chosen US state\n",
    "@callback(\n",
    "    Output(component_id='my-radio-btn', component_property='options'),\n",
    "    Input(component_id='our-States', component_property='value')\n",
    ")\n",
    "def update_text(chosen_state):  # the function argument comes from the component property of the Input\n",
    "    print(chosen_state)\n",
    "    print(type(chosen_state))\n",
    "    if chosen_state == 'Texas':\n",
    "        return ['Dallas','Arlington','Austin']\n",
    "    elif chosen_state == 'Florida':\n",
    "        return ['Polk City','Pinecrest','Orlando']\n",
    "    elif chosen_state == 'New York':\n",
    "        return ['Troy','Buffalo','Batavia']\n",
    "    else:\n",
    "        return []  # the returned objects are assigned to the component properties of the Outputs\n",
    "\n",
    "\n",
    "if __name__=='__main__':\n",
    "    app.run(port=8004)"
   ]
  },
  {
   "cell_type": "code",
   "execution_count": null,
   "id": "ee806068",
   "metadata": {},
   "outputs": [],
   "source": []
  },
  {
   "cell_type": "code",
   "execution_count": 6,
   "id": "e9a6024a",
   "metadata": {},
   "outputs": [
    {
     "name": "stdout",
     "output_type": "stream",
     "text": [
      "   total_bill   tip     sex smoker  day    time  size\n",
      "0       16.99  1.01  Female     No  Sun  Dinner     2\n",
      "1       10.34  1.66    Male     No  Sun  Dinner     3\n",
      "2       21.01  3.50    Male     No  Sun  Dinner     3\n",
      "3       23.68  3.31    Male     No  Sun  Dinner     2\n",
      "4       24.59  3.61  Female     No  Sun  Dinner     4\n",
      "Dash is running on http://127.0.0.1:8005/\n",
      "\n",
      "Dash is running on http://127.0.0.1:8005/\n",
      "\n",
      "Dash is running on http://127.0.0.1:8005/\n",
      "\n",
      "Dash is running on http://127.0.0.1:8005/\n",
      "\n",
      "Dash is running on http://127.0.0.1:8005/\n",
      "\n",
      "Dash is running on http://127.0.0.1:8005/\n",
      "\n",
      " * Serving Flask app \"__main__\" (lazy loading)\n",
      " * Environment: production\n",
      "   WARNING: This is a development server. Do not use it in a production deployment.\n",
      "   Use a production WSGI server instead.\n",
      " * Debug mode: off\n"
     ]
    },
    {
     "name": "stderr",
     "output_type": "stream",
     "text": [
      " * Running on http://127.0.0.1:8005/ (Press CTRL+C to quit)\n",
      "127.0.0.1 - - [30/Jul/2022 14:19:06] \"\u001b[37mGET / HTTP/1.1\u001b[0m\" 200 -\n",
      "127.0.0.1 - - [30/Jul/2022 14:19:06] \"\u001b[37mGET /_dash-component-suites/dash/deps/polyfill@7.v2_5_0m1654649861.12.1.min.js HTTP/1.1\u001b[0m\" 200 -\n",
      "127.0.0.1 - - [30/Jul/2022 14:19:06] \"\u001b[37mGET /_dash-component-suites/dash/deps/prop-types@15.v2_5_0m1654649861.8.1.min.js HTTP/1.1\u001b[0m\" 200 -\n",
      "127.0.0.1 - - [30/Jul/2022 14:19:06] \"\u001b[37mGET /_dash-component-suites/dash/deps/react@16.v2_5_0m1654649861.14.0.min.js HTTP/1.1\u001b[0m\" 200 -\n",
      "127.0.0.1 - - [30/Jul/2022 14:19:06] \"\u001b[37mGET /_dash-component-suites/dash/deps/react-dom@16.v2_5_0m1654649861.14.0.min.js HTTP/1.1\u001b[0m\" 200 -\n",
      "127.0.0.1 - - [30/Jul/2022 14:19:06] \"\u001b[37mGET /_dash-component-suites/dash/dash-renderer/build/dash_renderer.v2_5_0m1654649860.min.js HTTP/1.1\u001b[0m\" 200 -\n",
      "127.0.0.1 - - [30/Jul/2022 14:19:06] \"\u001b[37mGET /_dash-component-suites/dash/dcc/dash_core_components.v2_5_0m1654649861.js HTTP/1.1\u001b[0m\" 200 -\n",
      "127.0.0.1 - - [30/Jul/2022 14:19:06] \"\u001b[37mGET /_dash-component-suites/dash/dcc/dash_core_components-shared.v2_5_0m1654649861.js HTTP/1.1\u001b[0m\" 200 -\n",
      "127.0.0.1 - - [30/Jul/2022 14:19:06] \"\u001b[37mGET /_dash-component-suites/dash/html/dash_html_components.v2_0_3m1654649862.min.js HTTP/1.1\u001b[0m\" 200 -\n",
      "127.0.0.1 - - [30/Jul/2022 14:19:06] \"\u001b[37mGET /_dash-component-suites/dash/dash_table/bundle.v5_1_3m1654649860.js HTTP/1.1\u001b[0m\" 200 -\n",
      "127.0.0.1 - - [30/Jul/2022 14:19:07] \"\u001b[37mGET /_dash-layout HTTP/1.1\u001b[0m\" 200 -\n",
      "127.0.0.1 - - [30/Jul/2022 14:19:07] \"\u001b[37mGET /_dash-dependencies HTTP/1.1\u001b[0m\" 200 -\n",
      "127.0.0.1 - - [30/Jul/2022 14:19:07] \"\u001b[37mGET /_favicon.ico?v=2.5.0 HTTP/1.1\u001b[0m\" 200 -\n",
      "127.0.0.1 - - [30/Jul/2022 14:19:07] \"\u001b[37mGET /_dash-component-suites/dash/dcc/async-graph.js HTTP/1.1\u001b[0m\" 200 -\n",
      "127.0.0.1 - - [30/Jul/2022 14:19:07] \"\u001b[37mGET /_dash-component-suites/dash/dcc/async-plotlyjs.js HTTP/1.1\u001b[0m\" 200 -\n"
     ]
    },
    {
     "name": "stdout",
     "output_type": "stream",
     "text": [
      "{'points': [{'curveNumber': 0, 'x': 'Sat', 'y': 260.4, 'binNumber': 1, 'bbox': {'x0': 410.58, 'x1': 645.17, 'y0': 83.5, 'y1': 83.5}, 'pointNumbers': [19, 20, 21, 22, 23, 24, 25, 26, 27, 28, 29, 30, 31, 32, 33, 34, 35, 36, 37, 38, 39, 40, 56, 57, 58, 59, 60, 61, 62, 63, 64, 65, 66, 67, 68, 69, 70, 71, 72, 73, 74, 75, 76, 102, 103, 104, 105, 106, 107, 108, 109, 110, 111, 168, 169, 170, 171, 206, 207, 208, 209, 210, 211, 212, 213, 214, 215, 216, 217, 218, 219, 227, 228, 229, 230, 231, 232, 233, 234, 235, 236, 237, 238, 239, 240, 241, 242]}]}\n",
      "<class 'dict'>\n",
      "Sat\n",
      "    total_bill   tip     sex smoker  day    time  size\n",
      "19       20.65  3.35    Male     No  Sat  Dinner     3\n",
      "20       17.92  4.08    Male     No  Sat  Dinner     2\n",
      "21       20.29  2.75  Female     No  Sat  Dinner     2\n",
      "22       15.77  2.23  Female     No  Sat  Dinner     2\n",
      "23       39.42  7.58    Male     No  Sat  Dinner     4\n"
     ]
    },
    {
     "name": "stderr",
     "output_type": "stream",
     "text": [
      "127.0.0.1 - - [30/Jul/2022 14:19:12] \"\u001b[37mPOST /_dash-update-component HTTP/1.1\u001b[0m\" 200 -\n",
      "127.0.0.1 - - [30/Jul/2022 14:19:16] \"\u001b[37mPOST /_dash-update-component HTTP/1.1\u001b[0m\" 200 -\n"
     ]
    },
    {
     "name": "stdout",
     "output_type": "stream",
     "text": [
      "{'points': [{'curveNumber': 0, 'x': 'Thur', 'y': 171.83, 'binNumber': 2, 'bbox': {'x0': 703.83, 'x1': 938.43, 'y0': 183.67000000000002, 'y1': 183.67000000000002}, 'pointNumbers': [77, 78, 79, 80, 81, 82, 83, 84, 85, 86, 87, 88, 89, 117, 118, 119, 120, 121, 122, 123, 124, 125, 126, 127, 128, 129, 130, 131, 132, 133, 134, 135, 136, 137, 138, 139, 140, 141, 142, 143, 144, 145, 146, 147, 148, 149, 191, 192, 193, 194, 195, 196, 197, 198, 199, 200, 201, 202, 203, 204, 205, 243]}]}\n",
      "<class 'dict'>\n",
      "Thur\n",
      "    total_bill   tip   sex smoker   day   time  size\n",
      "77       27.20  4.00  Male     No  Thur  Lunch     4\n",
      "78       22.76  3.00  Male     No  Thur  Lunch     2\n",
      "79       17.29  2.71  Male     No  Thur  Lunch     2\n",
      "80       19.44  3.00  Male    Yes  Thur  Lunch     2\n",
      "81       16.66  3.40  Male     No  Thur  Lunch     2\n"
     ]
    },
    {
     "name": "stderr",
     "output_type": "stream",
     "text": [
      "127.0.0.1 - - [30/Jul/2022 14:19:18] \"\u001b[37mPOST /_dash-update-component HTTP/1.1\u001b[0m\" 200 -\n"
     ]
    },
    {
     "name": "stdout",
     "output_type": "stream",
     "text": [
      "{'points': [{'curveNumber': 0, 'x': 'Fri', 'y': 51.96, 'binNumber': 3, 'bbox': {'x0': 997.08, 'x1': 1231.68, 'y0': 319.24, 'y1': 319.24}, 'pointNumbers': [90, 91, 92, 93, 94, 95, 96, 97, 98, 99, 100, 101, 220, 221, 222, 223, 224, 225, 226]}]}\n",
      "<class 'dict'>\n",
      "Fri\n",
      "    total_bill   tip     sex smoker  day    time  size\n",
      "90       28.97  3.00    Male    Yes  Fri  Dinner     2\n",
      "91       22.49  3.50    Male     No  Fri  Dinner     2\n",
      "92        5.75  1.00  Female    Yes  Fri  Dinner     2\n",
      "93       16.32  4.30  Female    Yes  Fri  Dinner     2\n",
      "94       22.75  3.25  Female     No  Fri  Dinner     2\n"
     ]
    },
    {
     "name": "stderr",
     "output_type": "stream",
     "text": [
      "127.0.0.1 - - [30/Jul/2022 14:19:20] \"\u001b[37mPOST /_dash-update-component HTTP/1.1\u001b[0m\" 200 -\n"
     ]
    },
    {
     "name": "stdout",
     "output_type": "stream",
     "text": [
      "{'points': [{'curveNumber': 0, 'x': 'Sun', 'y': 247.39000000000007, 'binNumber': 0, 'bbox': {'x0': 117.32, 'x1': 351.93, 'y0': 98.21000000000001, 'y1': 98.21000000000001}, 'pointNumbers': [0, 1, 2, 3, 4, 5, 6, 7, 8, 9, 10, 11, 12, 13, 14, 15, 16, 17, 18, 41, 42, 43, 44, 45, 46, 47, 48, 49, 50, 51, 52, 53, 54, 55, 112, 113, 114, 115, 116, 150, 151, 152, 153, 154, 155, 156, 157, 158, 159, 160, 161, 162, 163, 164, 165, 166, 167, 172, 173, 174, 175, 176, 177, 178, 179, 180, 181, 182, 183, 184, 185, 186, 187, 188, 189, 190]}]}\n",
      "<class 'dict'>\n",
      "Sun\n",
      "   total_bill   tip     sex smoker  day    time  size\n",
      "0       16.99  1.01  Female     No  Sun  Dinner     2\n",
      "1       10.34  1.66    Male     No  Sun  Dinner     3\n",
      "2       21.01  3.50    Male     No  Sun  Dinner     3\n",
      "3       23.68  3.31    Male     No  Sun  Dinner     2\n",
      "4       24.59  3.61  Female     No  Sun  Dinner     4\n"
     ]
    },
    {
     "name": "stderr",
     "output_type": "stream",
     "text": [
      "127.0.0.1 - - [30/Jul/2022 14:20:53] \"\u001b[37mPOST /_dash-update-component HTTP/1.1\u001b[0m\" 200 -\n"
     ]
    },
    {
     "name": "stdout",
     "output_type": "stream",
     "text": [
      "{'points': [{'curveNumber': 0, 'x': 'Thur', 'y': 171.83, 'binNumber': 2, 'bbox': {'x0': 703.83, 'x1': 938.43, 'y0': 183.67000000000002, 'y1': 183.67000000000002}, 'pointNumbers': [77, 78, 79, 80, 81, 82, 83, 84, 85, 86, 87, 88, 89, 117, 118, 119, 120, 121, 122, 123, 124, 125, 126, 127, 128, 129, 130, 131, 132, 133, 134, 135, 136, 137, 138, 139, 140, 141, 142, 143, 144, 145, 146, 147, 148, 149, 191, 192, 193, 194, 195, 196, 197, 198, 199, 200, 201, 202, 203, 204, 205, 243]}]}\n",
      "<class 'dict'>\n",
      "Thur\n",
      "    total_bill   tip   sex smoker   day   time  size\n",
      "77       27.20  4.00  Male     No  Thur  Lunch     4\n",
      "78       22.76  3.00  Male     No  Thur  Lunch     2\n",
      "79       17.29  2.71  Male     No  Thur  Lunch     2\n",
      "80       19.44  3.00  Male    Yes  Thur  Lunch     2\n",
      "81       16.66  3.40  Male     No  Thur  Lunch     2\n"
     ]
    },
    {
     "name": "stderr",
     "output_type": "stream",
     "text": [
      "127.0.0.1 - - [30/Jul/2022 14:20:55] \"\u001b[37mPOST /_dash-update-component HTTP/1.1\u001b[0m\" 200 -\n"
     ]
    },
    {
     "name": "stdout",
     "output_type": "stream",
     "text": [
      "{'points': [{'curveNumber': 0, 'x': 'Fri', 'y': 51.96, 'binNumber': 3, 'bbox': {'x0': 997.08, 'x1': 1231.68, 'y0': 319.24, 'y1': 319.24}, 'pointNumbers': [90, 91, 92, 93, 94, 95, 96, 97, 98, 99, 100, 101, 220, 221, 222, 223, 224, 225, 226]}]}\n",
      "<class 'dict'>\n",
      "Fri\n",
      "    total_bill   tip     sex smoker  day    time  size\n",
      "90       28.97  3.00    Male    Yes  Fri  Dinner     2\n",
      "91       22.49  3.50    Male     No  Fri  Dinner     2\n",
      "92        5.75  1.00  Female    Yes  Fri  Dinner     2\n",
      "93       16.32  4.30  Female    Yes  Fri  Dinner     2\n",
      "94       22.75  3.25  Female     No  Fri  Dinner     2\n"
     ]
    },
    {
     "name": "stderr",
     "output_type": "stream",
     "text": [
      "127.0.0.1 - - [30/Jul/2022 14:20:58] \"\u001b[37mPOST /_dash-update-component HTTP/1.1\u001b[0m\" 200 -\n"
     ]
    },
    {
     "name": "stdout",
     "output_type": "stream",
     "text": [
      "{'points': [{'curveNumber': 0, 'x': 'Thur', 'y': 171.83, 'binNumber': 2, 'bbox': {'x0': 703.83, 'x1': 938.43, 'y0': 183.67000000000002, 'y1': 183.67000000000002}, 'pointNumbers': [77, 78, 79, 80, 81, 82, 83, 84, 85, 86, 87, 88, 89, 117, 118, 119, 120, 121, 122, 123, 124, 125, 126, 127, 128, 129, 130, 131, 132, 133, 134, 135, 136, 137, 138, 139, 140, 141, 142, 143, 144, 145, 146, 147, 148, 149, 191, 192, 193, 194, 195, 196, 197, 198, 199, 200, 201, 202, 203, 204, 205, 243]}]}\n",
      "<class 'dict'>\n",
      "Thur\n",
      "    total_bill   tip   sex smoker   day   time  size\n",
      "77       27.20  4.00  Male     No  Thur  Lunch     4\n",
      "78       22.76  3.00  Male     No  Thur  Lunch     2\n",
      "79       17.29  2.71  Male     No  Thur  Lunch     2\n",
      "80       19.44  3.00  Male    Yes  Thur  Lunch     2\n",
      "81       16.66  3.40  Male     No  Thur  Lunch     2\n"
     ]
    },
    {
     "name": "stderr",
     "output_type": "stream",
     "text": [
      "127.0.0.1 - - [30/Jul/2022 14:20:59] \"\u001b[37mPOST /_dash-update-component HTTP/1.1\u001b[0m\" 200 -\n"
     ]
    },
    {
     "name": "stdout",
     "output_type": "stream",
     "text": [
      "{'points': [{'curveNumber': 0, 'x': 'Sat', 'y': 260.4, 'binNumber': 1, 'bbox': {'x0': 410.58, 'x1': 645.17, 'y0': 83.5, 'y1': 83.5}, 'pointNumbers': [19, 20, 21, 22, 23, 24, 25, 26, 27, 28, 29, 30, 31, 32, 33, 34, 35, 36, 37, 38, 39, 40, 56, 57, 58, 59, 60, 61, 62, 63, 64, 65, 66, 67, 68, 69, 70, 71, 72, 73, 74, 75, 76, 102, 103, 104, 105, 106, 107, 108, 109, 110, 111, 168, 169, 170, 171, 206, 207, 208, 209, 210, 211, 212, 213, 214, 215, 216, 217, 218, 219, 227, 228, 229, 230, 231, 232, 233, 234, 235, 236, 237, 238, 239, 240, 241, 242]}]}\n",
      "<class 'dict'>\n",
      "Sat\n",
      "    total_bill   tip     sex smoker  day    time  size\n",
      "19       20.65  3.35    Male     No  Sat  Dinner     3\n",
      "20       17.92  4.08    Male     No  Sat  Dinner     2\n",
      "21       20.29  2.75  Female     No  Sat  Dinner     2\n",
      "22       15.77  2.23  Female     No  Sat  Dinner     2\n",
      "23       39.42  7.58    Male     No  Sat  Dinner     4\n"
     ]
    },
    {
     "name": "stderr",
     "output_type": "stream",
     "text": [
      "127.0.0.1 - - [30/Jul/2022 14:21:00] \"\u001b[37mPOST /_dash-update-component HTTP/1.1\u001b[0m\" 200 -\n"
     ]
    },
    {
     "name": "stdout",
     "output_type": "stream",
     "text": [
      "{'points': [{'curveNumber': 0, 'x': 'Sun', 'y': 247.39000000000007, 'binNumber': 0, 'bbox': {'x0': 117.32, 'x1': 351.93, 'y0': 98.21000000000001, 'y1': 98.21000000000001}, 'pointNumbers': [0, 1, 2, 3, 4, 5, 6, 7, 8, 9, 10, 11, 12, 13, 14, 15, 16, 17, 18, 41, 42, 43, 44, 45, 46, 47, 48, 49, 50, 51, 52, 53, 54, 55, 112, 113, 114, 115, 116, 150, 151, 152, 153, 154, 155, 156, 157, 158, 159, 160, 161, 162, 163, 164, 165, 166, 167, 172, 173, 174, 175, 176, 177, 178, 179, 180, 181, 182, 183, 184, 185, 186, 187, 188, 189, 190]}]}\n",
      "<class 'dict'>\n",
      "Sun\n",
      "   total_bill   tip     sex smoker  day    time  size\n",
      "0       16.99  1.01  Female     No  Sun  Dinner     2\n",
      "1       10.34  1.66    Male     No  Sun  Dinner     3\n",
      "2       21.01  3.50    Male     No  Sun  Dinner     3\n",
      "3       23.68  3.31    Male     No  Sun  Dinner     2\n",
      "4       24.59  3.61  Female     No  Sun  Dinner     4\n"
     ]
    }
   ],
   "source": [
    "from dash import Dash, dcc, html, Output, Input, State, callback\n",
    "import plotly.express as px\n",
    "\n",
    "df = px.data.tips()\n",
    "print(df.head())\n",
    "\n",
    "app = Dash(__name__)\n",
    "\n",
    "app.layout = html.Div([\n",
    "    dcc.Graph(figure=px.histogram(df, x='day', y='tip'), id='bar-graph'),\n",
    "    dcc.Graph(figure={}, id='my-graph')\n",
    "])\n",
    "\n",
    "# Plot a pie chart based on the selected day of the bar chart\n",
    "@callback(\n",
    "    Output(component_id='my-graph', component_property='figure'),\n",
    "    Input(component_id='bar-graph', component_property='clickData'),\n",
    "    prevent_initial_call=True\n",
    ")\n",
    "def update_text(chosen_data):  # the function argument comes from the component property of the Input\n",
    "    print(chosen_data)\n",
    "    print(type(chosen_data))\n",
    "    extract_day = chosen_data['points'][0]['x']\n",
    "    print(extract_day)\n",
    "    dff = df[df.day==extract_day]\n",
    "    print(dff.head())\n",
    "    fig = px.pie(dff, names='smoker', values='total_bill',  title=f'total bill by smoker on {extract_day}')\n",
    "    return fig  # the returned objects are assigned to the component properties of the Outputs\n",
    "\n",
    "\n",
    "if __name__=='__main__':\n",
    "    app.run(port=8005)"
   ]
  },
  {
   "cell_type": "code",
   "execution_count": null,
   "id": "99a5d854",
   "metadata": {},
   "outputs": [],
   "source": []
  }
 ],
 "metadata": {
  "kernelspec": {
   "display_name": "Python 3 (ipykernel)",
   "language": "python",
   "name": "python3"
  },
  "language_info": {
   "codemirror_mode": {
    "name": "ipython",
    "version": 3
   },
   "file_extension": ".py",
   "mimetype": "text/x-python",
   "name": "python",
   "nbconvert_exporter": "python",
   "pygments_lexer": "ipython3",
   "version": "3.9.12"
  }
 },
 "nbformat": 4,
 "nbformat_minor": 5
}
